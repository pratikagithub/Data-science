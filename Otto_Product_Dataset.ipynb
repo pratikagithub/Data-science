{
 "cells": [
  {
   "cell_type": "code",
   "execution_count": 1,
   "id": "3e68045f",
   "metadata": {},
   "outputs": [],
   "source": [
    "import pandas as pd\n",
    "import numpy as np\n",
    "import matplotlib.pyplot as plt\n",
    "import seaborn as sns"
   ]
  },
  {
   "cell_type": "code",
   "execution_count": 2,
   "id": "b3b6153e",
   "metadata": {},
   "outputs": [],
   "source": [
    "train_df=pd.read_csv('C:\\\\Users\\\\HP\\\\Downloads\\\\trainproduct.csv')"
   ]
  },
  {
   "cell_type": "code",
   "execution_count": 3,
   "id": "92b1f722",
   "metadata": {},
   "outputs": [],
   "source": [
    "test_df=pd.read_csv('C:\\\\Users\\\\HP\\\\Downloads\\\\testproduct.csv')"
   ]
  },
  {
   "cell_type": "code",
   "execution_count": 4,
   "id": "3b5e1e9d",
   "metadata": {},
   "outputs": [
    {
     "name": "stdout",
     "output_type": "stream",
     "text": [
      "(61878, 95)\n",
      "(144368, 94)\n"
     ]
    }
   ],
   "source": [
    "print(train_df.shape)\n",
    "print(test_df.shape)"
   ]
  },
  {
   "cell_type": "code",
   "execution_count": 5,
   "id": "d764dd46",
   "metadata": {},
   "outputs": [
    {
     "data": {
      "text/html": [
       "<div>\n",
       "<style scoped>\n",
       "    .dataframe tbody tr th:only-of-type {\n",
       "        vertical-align: middle;\n",
       "    }\n",
       "\n",
       "    .dataframe tbody tr th {\n",
       "        vertical-align: top;\n",
       "    }\n",
       "\n",
       "    .dataframe thead th {\n",
       "        text-align: right;\n",
       "    }\n",
       "</style>\n",
       "<table border=\"1\" class=\"dataframe\">\n",
       "  <thead>\n",
       "    <tr style=\"text-align: right;\">\n",
       "      <th></th>\n",
       "      <th>id</th>\n",
       "      <th>feat_1</th>\n",
       "      <th>feat_2</th>\n",
       "      <th>feat_3</th>\n",
       "      <th>feat_4</th>\n",
       "      <th>feat_5</th>\n",
       "      <th>feat_6</th>\n",
       "      <th>feat_7</th>\n",
       "      <th>feat_8</th>\n",
       "      <th>feat_9</th>\n",
       "      <th>...</th>\n",
       "      <th>feat_85</th>\n",
       "      <th>feat_86</th>\n",
       "      <th>feat_87</th>\n",
       "      <th>feat_88</th>\n",
       "      <th>feat_89</th>\n",
       "      <th>feat_90</th>\n",
       "      <th>feat_91</th>\n",
       "      <th>feat_92</th>\n",
       "      <th>feat_93</th>\n",
       "      <th>target</th>\n",
       "    </tr>\n",
       "  </thead>\n",
       "  <tbody>\n",
       "    <tr>\n",
       "      <th>0</th>\n",
       "      <td>1</td>\n",
       "      <td>1</td>\n",
       "      <td>0</td>\n",
       "      <td>0</td>\n",
       "      <td>0</td>\n",
       "      <td>0</td>\n",
       "      <td>0</td>\n",
       "      <td>0</td>\n",
       "      <td>0</td>\n",
       "      <td>0</td>\n",
       "      <td>...</td>\n",
       "      <td>1</td>\n",
       "      <td>0</td>\n",
       "      <td>0</td>\n",
       "      <td>0</td>\n",
       "      <td>0</td>\n",
       "      <td>0</td>\n",
       "      <td>0</td>\n",
       "      <td>0</td>\n",
       "      <td>0</td>\n",
       "      <td>Class_1</td>\n",
       "    </tr>\n",
       "    <tr>\n",
       "      <th>1</th>\n",
       "      <td>2</td>\n",
       "      <td>0</td>\n",
       "      <td>0</td>\n",
       "      <td>0</td>\n",
       "      <td>0</td>\n",
       "      <td>0</td>\n",
       "      <td>0</td>\n",
       "      <td>0</td>\n",
       "      <td>1</td>\n",
       "      <td>0</td>\n",
       "      <td>...</td>\n",
       "      <td>0</td>\n",
       "      <td>0</td>\n",
       "      <td>0</td>\n",
       "      <td>0</td>\n",
       "      <td>0</td>\n",
       "      <td>0</td>\n",
       "      <td>0</td>\n",
       "      <td>0</td>\n",
       "      <td>0</td>\n",
       "      <td>Class_1</td>\n",
       "    </tr>\n",
       "    <tr>\n",
       "      <th>2</th>\n",
       "      <td>3</td>\n",
       "      <td>0</td>\n",
       "      <td>0</td>\n",
       "      <td>0</td>\n",
       "      <td>0</td>\n",
       "      <td>0</td>\n",
       "      <td>0</td>\n",
       "      <td>0</td>\n",
       "      <td>1</td>\n",
       "      <td>0</td>\n",
       "      <td>...</td>\n",
       "      <td>0</td>\n",
       "      <td>0</td>\n",
       "      <td>0</td>\n",
       "      <td>0</td>\n",
       "      <td>0</td>\n",
       "      <td>0</td>\n",
       "      <td>0</td>\n",
       "      <td>0</td>\n",
       "      <td>0</td>\n",
       "      <td>Class_1</td>\n",
       "    </tr>\n",
       "    <tr>\n",
       "      <th>3</th>\n",
       "      <td>4</td>\n",
       "      <td>1</td>\n",
       "      <td>0</td>\n",
       "      <td>0</td>\n",
       "      <td>1</td>\n",
       "      <td>6</td>\n",
       "      <td>1</td>\n",
       "      <td>5</td>\n",
       "      <td>0</td>\n",
       "      <td>0</td>\n",
       "      <td>...</td>\n",
       "      <td>0</td>\n",
       "      <td>1</td>\n",
       "      <td>2</td>\n",
       "      <td>0</td>\n",
       "      <td>0</td>\n",
       "      <td>0</td>\n",
       "      <td>0</td>\n",
       "      <td>0</td>\n",
       "      <td>0</td>\n",
       "      <td>Class_1</td>\n",
       "    </tr>\n",
       "    <tr>\n",
       "      <th>4</th>\n",
       "      <td>5</td>\n",
       "      <td>0</td>\n",
       "      <td>0</td>\n",
       "      <td>0</td>\n",
       "      <td>0</td>\n",
       "      <td>0</td>\n",
       "      <td>0</td>\n",
       "      <td>0</td>\n",
       "      <td>0</td>\n",
       "      <td>0</td>\n",
       "      <td>...</td>\n",
       "      <td>1</td>\n",
       "      <td>0</td>\n",
       "      <td>0</td>\n",
       "      <td>0</td>\n",
       "      <td>0</td>\n",
       "      <td>1</td>\n",
       "      <td>0</td>\n",
       "      <td>0</td>\n",
       "      <td>0</td>\n",
       "      <td>Class_1</td>\n",
       "    </tr>\n",
       "  </tbody>\n",
       "</table>\n",
       "<p>5 rows × 95 columns</p>\n",
       "</div>"
      ],
      "text/plain": [
       "   id  feat_1  feat_2  feat_3  feat_4  feat_5  feat_6  feat_7  feat_8  feat_9  \\\n",
       "0   1       1       0       0       0       0       0       0       0       0   \n",
       "1   2       0       0       0       0       0       0       0       1       0   \n",
       "2   3       0       0       0       0       0       0       0       1       0   \n",
       "3   4       1       0       0       1       6       1       5       0       0   \n",
       "4   5       0       0       0       0       0       0       0       0       0   \n",
       "\n",
       "   ...  feat_85  feat_86  feat_87  feat_88  feat_89  feat_90  feat_91  \\\n",
       "0  ...        1        0        0        0        0        0        0   \n",
       "1  ...        0        0        0        0        0        0        0   \n",
       "2  ...        0        0        0        0        0        0        0   \n",
       "3  ...        0        1        2        0        0        0        0   \n",
       "4  ...        1        0        0        0        0        1        0   \n",
       "\n",
       "   feat_92  feat_93   target  \n",
       "0        0        0  Class_1  \n",
       "1        0        0  Class_1  \n",
       "2        0        0  Class_1  \n",
       "3        0        0  Class_1  \n",
       "4        0        0  Class_1  \n",
       "\n",
       "[5 rows x 95 columns]"
      ]
     },
     "execution_count": 5,
     "metadata": {},
     "output_type": "execute_result"
    }
   ],
   "source": [
    "train_df.head()"
   ]
  },
  {
   "cell_type": "code",
   "execution_count": 6,
   "id": "94fef6c5",
   "metadata": {},
   "outputs": [
    {
     "data": {
      "text/html": [
       "<div>\n",
       "<style scoped>\n",
       "    .dataframe tbody tr th:only-of-type {\n",
       "        vertical-align: middle;\n",
       "    }\n",
       "\n",
       "    .dataframe tbody tr th {\n",
       "        vertical-align: top;\n",
       "    }\n",
       "\n",
       "    .dataframe thead th {\n",
       "        text-align: right;\n",
       "    }\n",
       "</style>\n",
       "<table border=\"1\" class=\"dataframe\">\n",
       "  <thead>\n",
       "    <tr style=\"text-align: right;\">\n",
       "      <th></th>\n",
       "      <th>id</th>\n",
       "      <th>feat_1</th>\n",
       "      <th>feat_2</th>\n",
       "      <th>feat_3</th>\n",
       "      <th>feat_4</th>\n",
       "      <th>feat_5</th>\n",
       "      <th>feat_6</th>\n",
       "      <th>feat_7</th>\n",
       "      <th>feat_8</th>\n",
       "      <th>feat_9</th>\n",
       "      <th>...</th>\n",
       "      <th>feat_84</th>\n",
       "      <th>feat_85</th>\n",
       "      <th>feat_86</th>\n",
       "      <th>feat_87</th>\n",
       "      <th>feat_88</th>\n",
       "      <th>feat_89</th>\n",
       "      <th>feat_90</th>\n",
       "      <th>feat_91</th>\n",
       "      <th>feat_92</th>\n",
       "      <th>feat_93</th>\n",
       "    </tr>\n",
       "  </thead>\n",
       "  <tbody>\n",
       "    <tr>\n",
       "      <th>0</th>\n",
       "      <td>1</td>\n",
       "      <td>0</td>\n",
       "      <td>0</td>\n",
       "      <td>0</td>\n",
       "      <td>0</td>\n",
       "      <td>0</td>\n",
       "      <td>0</td>\n",
       "      <td>0</td>\n",
       "      <td>0</td>\n",
       "      <td>0</td>\n",
       "      <td>...</td>\n",
       "      <td>0</td>\n",
       "      <td>0</td>\n",
       "      <td>11</td>\n",
       "      <td>1</td>\n",
       "      <td>20</td>\n",
       "      <td>0</td>\n",
       "      <td>0</td>\n",
       "      <td>0</td>\n",
       "      <td>0</td>\n",
       "      <td>0</td>\n",
       "    </tr>\n",
       "    <tr>\n",
       "      <th>1</th>\n",
       "      <td>2</td>\n",
       "      <td>2</td>\n",
       "      <td>2</td>\n",
       "      <td>14</td>\n",
       "      <td>16</td>\n",
       "      <td>0</td>\n",
       "      <td>0</td>\n",
       "      <td>0</td>\n",
       "      <td>0</td>\n",
       "      <td>0</td>\n",
       "      <td>...</td>\n",
       "      <td>0</td>\n",
       "      <td>0</td>\n",
       "      <td>0</td>\n",
       "      <td>0</td>\n",
       "      <td>0</td>\n",
       "      <td>4</td>\n",
       "      <td>0</td>\n",
       "      <td>0</td>\n",
       "      <td>2</td>\n",
       "      <td>0</td>\n",
       "    </tr>\n",
       "    <tr>\n",
       "      <th>2</th>\n",
       "      <td>3</td>\n",
       "      <td>0</td>\n",
       "      <td>1</td>\n",
       "      <td>12</td>\n",
       "      <td>1</td>\n",
       "      <td>0</td>\n",
       "      <td>0</td>\n",
       "      <td>0</td>\n",
       "      <td>0</td>\n",
       "      <td>0</td>\n",
       "      <td>...</td>\n",
       "      <td>0</td>\n",
       "      <td>0</td>\n",
       "      <td>0</td>\n",
       "      <td>0</td>\n",
       "      <td>2</td>\n",
       "      <td>0</td>\n",
       "      <td>0</td>\n",
       "      <td>0</td>\n",
       "      <td>0</td>\n",
       "      <td>1</td>\n",
       "    </tr>\n",
       "    <tr>\n",
       "      <th>3</th>\n",
       "      <td>4</td>\n",
       "      <td>0</td>\n",
       "      <td>0</td>\n",
       "      <td>0</td>\n",
       "      <td>1</td>\n",
       "      <td>0</td>\n",
       "      <td>0</td>\n",
       "      <td>0</td>\n",
       "      <td>0</td>\n",
       "      <td>0</td>\n",
       "      <td>...</td>\n",
       "      <td>0</td>\n",
       "      <td>3</td>\n",
       "      <td>1</td>\n",
       "      <td>0</td>\n",
       "      <td>0</td>\n",
       "      <td>0</td>\n",
       "      <td>0</td>\n",
       "      <td>0</td>\n",
       "      <td>0</td>\n",
       "      <td>0</td>\n",
       "    </tr>\n",
       "    <tr>\n",
       "      <th>4</th>\n",
       "      <td>5</td>\n",
       "      <td>1</td>\n",
       "      <td>0</td>\n",
       "      <td>0</td>\n",
       "      <td>1</td>\n",
       "      <td>0</td>\n",
       "      <td>0</td>\n",
       "      <td>1</td>\n",
       "      <td>2</td>\n",
       "      <td>0</td>\n",
       "      <td>...</td>\n",
       "      <td>0</td>\n",
       "      <td>0</td>\n",
       "      <td>0</td>\n",
       "      <td>0</td>\n",
       "      <td>0</td>\n",
       "      <td>0</td>\n",
       "      <td>0</td>\n",
       "      <td>9</td>\n",
       "      <td>0</td>\n",
       "      <td>0</td>\n",
       "    </tr>\n",
       "  </tbody>\n",
       "</table>\n",
       "<p>5 rows × 94 columns</p>\n",
       "</div>"
      ],
      "text/plain": [
       "   id  feat_1  feat_2  feat_3  feat_4  feat_5  feat_6  feat_7  feat_8  feat_9  \\\n",
       "0   1       0       0       0       0       0       0       0       0       0   \n",
       "1   2       2       2      14      16       0       0       0       0       0   \n",
       "2   3       0       1      12       1       0       0       0       0       0   \n",
       "3   4       0       0       0       1       0       0       0       0       0   \n",
       "4   5       1       0       0       1       0       0       1       2       0   \n",
       "\n",
       "   ...  feat_84  feat_85  feat_86  feat_87  feat_88  feat_89  feat_90  \\\n",
       "0  ...        0        0       11        1       20        0        0   \n",
       "1  ...        0        0        0        0        0        4        0   \n",
       "2  ...        0        0        0        0        2        0        0   \n",
       "3  ...        0        3        1        0        0        0        0   \n",
       "4  ...        0        0        0        0        0        0        0   \n",
       "\n",
       "   feat_91  feat_92  feat_93  \n",
       "0        0        0        0  \n",
       "1        0        2        0  \n",
       "2        0        0        1  \n",
       "3        0        0        0  \n",
       "4        9        0        0  \n",
       "\n",
       "[5 rows x 94 columns]"
      ]
     },
     "execution_count": 6,
     "metadata": {},
     "output_type": "execute_result"
    }
   ],
   "source": [
    "test_df.head()"
   ]
  },
  {
   "cell_type": "code",
   "execution_count": 7,
   "id": "66ef9ae8",
   "metadata": {},
   "outputs": [
    {
     "name": "stdout",
     "output_type": "stream",
     "text": [
      "Index(['id', 'feat_1', 'feat_2', 'feat_3', 'feat_4', 'feat_5', 'feat_6',\n",
      "       'feat_7', 'feat_8', 'feat_9', 'feat_10', 'feat_11', 'feat_12',\n",
      "       'feat_13', 'feat_14', 'feat_15', 'feat_16', 'feat_17', 'feat_18',\n",
      "       'feat_19', 'feat_20', 'feat_21', 'feat_22', 'feat_23', 'feat_24',\n",
      "       'feat_25', 'feat_26', 'feat_27', 'feat_28', 'feat_29', 'feat_30',\n",
      "       'feat_31', 'feat_32', 'feat_33', 'feat_34', 'feat_35', 'feat_36',\n",
      "       'feat_37', 'feat_38', 'feat_39', 'feat_40', 'feat_41', 'feat_42',\n",
      "       'feat_43', 'feat_44', 'feat_45', 'feat_46', 'feat_47', 'feat_48',\n",
      "       'feat_49', 'feat_50', 'feat_51', 'feat_52', 'feat_53', 'feat_54',\n",
      "       'feat_55', 'feat_56', 'feat_57', 'feat_58', 'feat_59', 'feat_60',\n",
      "       'feat_61', 'feat_62', 'feat_63', 'feat_64', 'feat_65', 'feat_66',\n",
      "       'feat_67', 'feat_68', 'feat_69', 'feat_70', 'feat_71', 'feat_72',\n",
      "       'feat_73', 'feat_74', 'feat_75', 'feat_76', 'feat_77', 'feat_78',\n",
      "       'feat_79', 'feat_80', 'feat_81', 'feat_82', 'feat_83', 'feat_84',\n",
      "       'feat_85', 'feat_86', 'feat_87', 'feat_88', 'feat_89', 'feat_90',\n",
      "       'feat_91', 'feat_92', 'feat_93', 'target'],\n",
      "      dtype='object')\n"
     ]
    }
   ],
   "source": [
    "print(train_df.columns)"
   ]
  },
  {
   "cell_type": "code",
   "execution_count": 9,
   "id": "e713ab02",
   "metadata": {},
   "outputs": [
    {
     "data": {
      "text/plain": [
       "Series([], dtype: int64)"
      ]
     },
     "execution_count": 9,
     "metadata": {},
     "output_type": "execute_result"
    }
   ],
   "source": [
    "#data preprocessing\n",
    "# 1. handle null values\n",
    "train_nv=train_df.isnull().sum()\n",
    "train_nv[train_nv>0]"
   ]
  },
  {
   "cell_type": "code",
   "execution_count": 10,
   "id": "acdf9d3a",
   "metadata": {},
   "outputs": [
    {
     "data": {
      "text/plain": [
       "Series([], dtype: int64)"
      ]
     },
     "execution_count": 10,
     "metadata": {},
     "output_type": "execute_result"
    }
   ],
   "source": [
    "test_nv=test_df.isnull().sum()\n",
    "test_nv[test_nv>0]"
   ]
  },
  {
   "cell_type": "code",
   "execution_count": 11,
   "id": "04028f84",
   "metadata": {},
   "outputs": [
    {
     "data": {
      "text/plain": [
       "0"
      ]
     },
     "execution_count": 11,
     "metadata": {},
     "output_type": "execute_result"
    }
   ],
   "source": [
    "# 2. handle the duplicates\n",
    "train_df.duplicated().sum()"
   ]
  },
  {
   "cell_type": "code",
   "execution_count": 12,
   "id": "40a6a78e",
   "metadata": {},
   "outputs": [
    {
     "data": {
      "text/plain": [
       "0"
      ]
     },
     "execution_count": 12,
     "metadata": {},
     "output_type": "execute_result"
    }
   ],
   "source": [
    "test_df.duplicated().sum()"
   ]
  },
  {
   "cell_type": "code",
   "execution_count": 14,
   "id": "a3c07d8f",
   "metadata": {},
   "outputs": [
    {
     "data": {
      "text/plain": [
       "int64     94\n",
       "object     1\n",
       "dtype: int64"
      ]
     },
     "execution_count": 14,
     "metadata": {},
     "output_type": "execute_result"
    }
   ],
   "source": [
    "# 3. checking the data type inconsistencies\n",
    "train_df.dtypes.value_counts()"
   ]
  },
  {
   "cell_type": "code",
   "execution_count": 15,
   "id": "a6eae6b9",
   "metadata": {},
   "outputs": [
    {
     "data": {
      "text/plain": [
       "int64    94\n",
       "dtype: int64"
      ]
     },
     "execution_count": 15,
     "metadata": {},
     "output_type": "execute_result"
    }
   ],
   "source": [
    "test_df.dtypes.value_counts()"
   ]
  },
  {
   "cell_type": "code",
   "execution_count": 17,
   "id": "441bce8b",
   "metadata": {},
   "outputs": [
    {
     "data": {
      "text/plain": [
       "Class_2    16122\n",
       "Class_6    14135\n",
       "Class_8     8464\n",
       "Class_3     8004\n",
       "Class_9     4955\n",
       "Class_7     2839\n",
       "Class_5     2739\n",
       "Class_4     2691\n",
       "Class_1     1929\n",
       "Name: target, dtype: int64"
      ]
     },
     "execution_count": 17,
     "metadata": {},
     "output_type": "execute_result"
    }
   ],
   "source": [
    "# 4. target variable\n",
    "train_df['target'].value_counts()"
   ]
  },
  {
   "cell_type": "code",
   "execution_count": 19,
   "id": "7ea29210",
   "metadata": {},
   "outputs": [],
   "source": [
    "#corerealtion\n",
    "corr=train_df.corr()"
   ]
  },
  {
   "cell_type": "code",
   "execution_count": 21,
   "id": "c2a83c2c",
   "metadata": {},
   "outputs": [
    {
     "data": {
      "image/png": "[encoded data removed]",
      "text/plain": [
       "<Figure size 2880x2880 with 2 Axes>"
      ]
     },
     "metadata": {
      "needs_background": "light"
     },
     "output_type": "display_data"
    }
   ],
   "source": [
    "#representing features having corealtion more than 0.7\n",
    "plt.figure(figsize=(40,40))\n",
    "sns.heatmap(corr[abs(corr)>0.7],annot=True,cmap='RdBu')\n",
    "plt.show()"
   ]
  },
  {
   "cell_type": "code",
   "execution_count": 22,
   "id": "a2c5c611",
   "metadata": {},
   "outputs": [
    {
     "name": "stdout",
     "output_type": "stream",
     "text": [
      "<class 'pandas.core.frame.DataFrame'>\n",
      "<class 'pandas.core.series.Series'>\n",
      "(61878, 93)\n",
      "(61878,)\n"
     ]
    }
   ],
   "source": [
    "# selecting depenedent and independent features\n",
    "x=train_df.drop(['id','target'],axis=1)\n",
    "y=train_df['target']\n",
    "print(type(x))\n",
    "print(type(y))\n",
    "print(x.shape)\n",
    "print(y.shape)"
   ]
  },
  {
   "cell_type": "code",
   "execution_count": 23,
   "id": "19a4dae8",
   "metadata": {},
   "outputs": [],
   "source": [
    "# splitting the data into tain and test\n",
    "from sklearn.model_selection import train_test_split"
   ]
  },
  {
   "cell_type": "code",
   "execution_count": 26,
   "id": "79c41b8f",
   "metadata": {},
   "outputs": [
    {
     "name": "stdout",
     "output_type": "stream",
     "text": [
      "(43314, 93)\n",
      "(18564, 93)\n",
      "(43314,)\n",
      "(18564,)\n"
     ]
    }
   ],
   "source": [
    "x_train,x_test,y_train,y_test=train_test_split(x,y,test_size=0.30,random_state=42)\n",
    "print(x_train.shape)\n",
    "print(x_test.shape)\n",
    "print(y_train.shape)\n",
    "print(y_test.shape)"
   ]
  },
  {
   "cell_type": "code",
   "execution_count": 29,
   "id": "51d7f70f",
   "metadata": {},
   "outputs": [],
   "source": [
    "# create function to evulate confusion_matrix, classification_matrix, classification_report and to generate train and test score\n",
    "from sklearn.metrics import confusion_matrix, classification_report"
   ]
  },
  {
   "cell_type": "code",
   "execution_count": 43,
   "id": "59eec778",
   "metadata": {},
   "outputs": [],
   "source": [
    "def eval_model(ytest,ypred):\n",
    "    cm=confusion_matrix(ytest,ypred)\n",
    "    print('confusion matrix\\n',cm)\n",
    "    print('classification report\\n',classification_report(ytest,ypred))\n",
    "    print('test score',(ytest,ypred))\n",
    "def mscore(model):\n",
    "    print('train score',model.score(x_train,y_train))\n",
    "    print('test score',model.score(x_test,y_test))"
   ]
  },
  {
   "cell_type": "code",
   "execution_count": 32,
   "id": "de89aac6",
   "metadata": {},
   "outputs": [],
   "source": [
    "# importing libraries for ml models\n",
    "from sklearn.tree import DecisionTreeClassifier\n",
    "from sklearn.ensemble import RandomForestClassifier\n",
    "from sklearn.ensemble import AdaBoostClassifier\n",
    "from sklearn.neighbors import KNeighborsClassifier"
   ]
  },
  {
   "cell_type": "code",
   "execution_count": 34,
   "id": "d43b8ed0",
   "metadata": {},
   "outputs": [
    {
     "data": {
      "text/plain": [
       "KNeighborsClassifier(n_neighbors=17)"
      ]
     },
     "execution_count": 34,
     "metadata": {},
     "output_type": "execute_result"
    }
   ],
   "source": [
    "# 1. KNN Classifier\n",
    "Knn1= KNeighborsClassifier(n_neighbors=17)\n",
    "Knn1.fit(x_train,y_train)"
   ]
  },
  {
   "cell_type": "code",
   "execution_count": 35,
   "id": "cd3d6712",
   "metadata": {},
   "outputs": [
    {
     "name": "stdout",
     "output_type": "stream",
     "text": [
      "train score 0.7958165950962737\n",
      "test score 0.7754255548373196\n"
     ]
    }
   ],
   "source": [
    "mscore(Knn1)"
   ]
  },
  {
   "cell_type": "code",
   "execution_count": 44,
   "id": "1e590b56",
   "metadata": {},
   "outputs": [
    {
     "name": "stdout",
     "output_type": "stream",
     "text": [
      "confusion matrix\n",
      " [[ 277   23    3    0    5   37   15   82  145]\n",
      " [   4 4105  615   24   12    5   23    5    7]\n",
      " [   0 1235 1068   22    0    4   23    6    3]\n",
      " [   1  439  172  139    6   17   11    0    2]\n",
      " [   2   19    1    0  816    0    5    1    1]\n",
      " [  40   73    9    6    3 3936   58   86   79]\n",
      " [  30  112   80    3    9   51  490   63    8]\n",
      " [  49   50   14    0    3   67   31 2223   53]\n",
      " [  39   51    3    1    7   59    6   51 1341]]\n",
      "classification report\n",
      "               precision    recall  f1-score   support\n",
      "\n",
      "     Class_1       0.63      0.47      0.54       587\n",
      "     Class_2       0.67      0.86      0.75      4800\n",
      "     Class_3       0.54      0.45      0.49      2361\n",
      "     Class_4       0.71      0.18      0.28       787\n",
      "     Class_5       0.95      0.97      0.96       845\n",
      "     Class_6       0.94      0.92      0.93      4290\n",
      "     Class_7       0.74      0.58      0.65       846\n",
      "     Class_8       0.88      0.89      0.89      2490\n",
      "     Class_9       0.82      0.86      0.84      1558\n",
      "\n",
      "    accuracy                           0.78     18564\n",
      "   macro avg       0.77      0.69      0.70     18564\n",
      "weighted avg       0.77      0.78      0.76     18564\n",
      "\n",
      "test score (47416    Class_7\n",
      "46490    Class_7\n",
      "35460    Class_6\n",
      "44640    Class_6\n",
      "32087    Class_6\n",
      "          ...   \n",
      "15868    Class_2\n",
      "22879    Class_3\n",
      "22575    Class_3\n",
      "196      Class_1\n",
      "34153    Class_6\n",
      "Name: target, Length: 18564, dtype: object, array(['Class_2', 'Class_7', 'Class_6', ..., 'Class_3', 'Class_9',\n",
      "       'Class_6'], dtype=object))\n"
     ]
    }
   ],
   "source": [
    "ypred_Knn1=Knn1.predict(x_test)\n",
    "eval_model(y_test,ypred_Knn1)"
   ]
  },
  {
   "cell_type": "code",
   "execution_count": 38,
   "id": "f78159e9",
   "metadata": {},
   "outputs": [
    {
     "data": {
      "text/plain": [
       "DecisionTreeClassifier(max_depth=12, min_samples_split=30)"
      ]
     },
     "execution_count": 38,
     "metadata": {},
     "output_type": "execute_result"
    }
   ],
   "source": [
    "# decision tree classifier\n",
    "dt1=DecisionTreeClassifier(criterion='gini',max_depth=12,min_samples_split=30)\n",
    "dt1.fit(x_train,y_train)"
   ]
  },
  {
   "cell_type": "code",
   "execution_count": 39,
   "id": "21c193bf",
   "metadata": {},
   "outputs": [
    {
     "name": "stdout",
     "output_type": "stream",
     "text": [
      "train score 0.6851826199381262\n",
      "test score 0.6715147597500538\n"
     ]
    }
   ],
   "source": [
    "mscore(dt1)"
   ]
  },
  {
   "cell_type": "code",
   "execution_count": 45,
   "id": "4e76f5cc",
   "metadata": {},
   "outputs": [
    {
     "name": "stdout",
     "output_type": "stream",
     "text": [
      "confusion matrix\n",
      " [[  26  243    2    3    0   37    5  103  168]\n",
      " [   4 4106  514   38    5   23    8   43   59]\n",
      " [   2 1533  727   27    0    8    8   31   25]\n",
      " [   0  467   81  187    4   28    2    4   14]\n",
      " [   0   63    0    0  773    0    0    7    2]\n",
      " [   7  334   19   20    0 3678   16  103  113]\n",
      " [   3  421   45    3    3   59  191   74   47]\n",
      " [  25  435   25   10    2   70   12 1789  122]\n",
      " [  12  339    8    5    3   67    1  134  989]]\n",
      "classification report\n",
      "               precision    recall  f1-score   support\n",
      "\n",
      "     Class_1       0.33      0.04      0.08       587\n",
      "     Class_2       0.52      0.86      0.64      4800\n",
      "     Class_3       0.51      0.31      0.38      2361\n",
      "     Class_4       0.64      0.24      0.35       787\n",
      "     Class_5       0.98      0.91      0.95       845\n",
      "     Class_6       0.93      0.86      0.89      4290\n",
      "     Class_7       0.79      0.23      0.35       846\n",
      "     Class_8       0.78      0.72      0.75      2490\n",
      "     Class_9       0.64      0.63      0.64      1558\n",
      "\n",
      "    accuracy                           0.67     18564\n",
      "   macro avg       0.68      0.53      0.56     18564\n",
      "weighted avg       0.69      0.67      0.65     18564\n",
      "\n",
      "test score (47416    Class_7\n",
      "46490    Class_7\n",
      "35460    Class_6\n",
      "44640    Class_6\n",
      "32087    Class_6\n",
      "          ...   \n",
      "15868    Class_2\n",
      "22879    Class_3\n",
      "22575    Class_3\n",
      "196      Class_1\n",
      "34153    Class_6\n",
      "Name: target, Length: 18564, dtype: object, array(['Class_2', 'Class_9', 'Class_6', ..., 'Class_2', 'Class_6',\n",
      "       'Class_6'], dtype=object))\n"
     ]
    }
   ],
   "source": [
    "ypred_dt1 = dt1.predict(x_test)\n",
    "eval_model(y_test,ypred_dt1)"
   ]
  },
  {
   "cell_type": "code",
   "execution_count": 46,
   "id": "ac0120da",
   "metadata": {},
   "outputs": [
    {
     "data": {
      "text/plain": [
       "RandomForestClassifier(max_depth=12, min_samples_split=18, n_estimators=80)"
      ]
     },
     "execution_count": 46,
     "metadata": {},
     "output_type": "execute_result"
    }
   ],
   "source": [
    "# 3. RandomForest Classifier\n",
    "rf1=RandomForestClassifier(n_estimators=80, criterion='gini',max_depth=12,min_samples_split=18)\n",
    "rf1.fit(x_train,y_train)"
   ]
  },
  {
   "cell_type": "code",
   "execution_count": 47,
   "id": "38e9357d",
   "metadata": {},
   "outputs": [
    {
     "name": "stdout",
     "output_type": "stream",
     "text": [
      "train score 0.7449323544350557\n",
      "test score 0.7266214177978884\n"
     ]
    }
   ],
   "source": [
    "mscore(rf1)"
   ]
  },
  {
   "cell_type": "code",
   "execution_count": 48,
   "id": "7623ccde",
   "metadata": {},
   "outputs": [
    {
     "name": "stdout",
     "output_type": "stream",
     "text": [
      "confusion matrix\n",
      " [[   9  109    0    0    0   83    1  226  159]\n",
      " [   0 4655   99    3   10   12    1   16    4]\n",
      " [   0 2051  275   10    0    8    1   15    1]\n",
      " [   0  639   13  100    4   30    0    1    0]\n",
      " [   0   50    0    0  787    3    0    5    0]\n",
      " [   0  123    0    0    0 4004   19   96   48]\n",
      " [   0  365   11    6    2   84  201  167   10]\n",
      " [   0   85    2    0    1   89    0 2292   21]\n",
      " [   0  157    0    0    5  110    0  120 1166]]\n",
      "classification report\n",
      "               precision    recall  f1-score   support\n",
      "\n",
      "     Class_1       1.00      0.02      0.03       587\n",
      "     Class_2       0.57      0.97      0.71      4800\n",
      "     Class_3       0.69      0.12      0.20      2361\n",
      "     Class_4       0.84      0.13      0.22       787\n",
      "     Class_5       0.97      0.93      0.95       845\n",
      "     Class_6       0.91      0.93      0.92      4290\n",
      "     Class_7       0.90      0.24      0.38       846\n",
      "     Class_8       0.78      0.92      0.84      2490\n",
      "     Class_9       0.83      0.75      0.79      1558\n",
      "\n",
      "    accuracy                           0.73     18564\n",
      "   macro avg       0.83      0.56      0.56     18564\n",
      "weighted avg       0.77      0.73      0.67     18564\n",
      "\n",
      "test score (47416    Class_7\n",
      "46490    Class_7\n",
      "35460    Class_6\n",
      "44640    Class_6\n",
      "32087    Class_6\n",
      "          ...   \n",
      "15868    Class_2\n",
      "22879    Class_3\n",
      "22575    Class_3\n",
      "196      Class_1\n",
      "34153    Class_6\n",
      "Name: target, Length: 18564, dtype: object, array(['Class_2', 'Class_2', 'Class_6', ..., 'Class_2', 'Class_9',\n",
      "       'Class_6'], dtype=object))\n"
     ]
    }
   ],
   "source": [
    "ypred_rf1 = rf1.predict(x_test)\n",
    "eval_model(y_test,ypred_rf1)"
   ]
  },
  {
   "cell_type": "code",
   "execution_count": 49,
   "id": "08014f79",
   "metadata": {},
   "outputs": [
    {
     "data": {
      "text/plain": [
       "AdaBoostClassifier(n_estimators=70)"
      ]
     },
     "execution_count": 49,
     "metadata": {},
     "output_type": "execute_result"
    }
   ],
   "source": [
    "# 4. AdaBoost Classifier\n",
    "adab1=AdaBoostClassifier(n_estimators=70)\n",
    "adab1.fit(x_train,y_train)"
   ]
  },
  {
   "cell_type": "code",
   "execution_count": 50,
   "id": "6f2e2b31",
   "metadata": {},
   "outputs": [
    {
     "name": "stdout",
     "output_type": "stream",
     "text": [
      "train score 0.6890843607147804\n",
      "test score 0.6911226028873088\n"
     ]
    }
   ],
   "source": [
    "mscore(adab1)"
   ]
  },
  {
   "cell_type": "code",
   "execution_count": 51,
   "id": "b71e9631",
   "metadata": {},
   "outputs": [
    {
     "name": "stdout",
     "output_type": "stream",
     "text": [
      "confusion matrix\n",
      " [[ 103   19    1    2    6   91   26  165  174]\n",
      " [   9 3846  563  164   52   23   63   57   23]\n",
      " [   4 1447  631  100   21   13   88   49    8]\n",
      " [   6  399   71  246    7   28   25    2    3]\n",
      " [   0   17    0    1  814    2    1    9    1]\n",
      " [  39   46    8   30    2 3953   44  103   65]\n",
      " [  48  108   65   14    7  122  342  119   21]\n",
      " [ 128   36   17    1    5  241   69 1879  114]\n",
      " [ 153   69    2    4    5  124   10  175 1016]]\n",
      "classification report\n",
      "               precision    recall  f1-score   support\n",
      "\n",
      "     Class_1       0.21      0.18      0.19       587\n",
      "     Class_2       0.64      0.80      0.71      4800\n",
      "     Class_3       0.46      0.27      0.34      2361\n",
      "     Class_4       0.44      0.31      0.36       787\n",
      "     Class_5       0.89      0.96      0.92       845\n",
      "     Class_6       0.86      0.92      0.89      4290\n",
      "     Class_7       0.51      0.40      0.45       846\n",
      "     Class_8       0.73      0.75      0.74      2490\n",
      "     Class_9       0.71      0.65      0.68      1558\n",
      "\n",
      "    accuracy                           0.69     18564\n",
      "   macro avg       0.61      0.58      0.59     18564\n",
      "weighted avg       0.67      0.69      0.67     18564\n",
      "\n",
      "test score (47416    Class_7\n",
      "46490    Class_7\n",
      "35460    Class_6\n",
      "44640    Class_6\n",
      "32087    Class_6\n",
      "          ...   \n",
      "15868    Class_2\n",
      "22879    Class_3\n",
      "22575    Class_3\n",
      "196      Class_1\n",
      "34153    Class_6\n",
      "Name: target, Length: 18564, dtype: object, array(['Class_2', 'Class_7', 'Class_6', ..., 'Class_3', 'Class_6',\n",
      "       'Class_6'], dtype=object))\n"
     ]
    }
   ],
   "source": [
    "ypred_adab1=adab1.predict(x_test)\n",
    "eval_model(y_test,ypred_adab1)"
   ]
  },
  {
   "cell_type": "code",
   "execution_count": 52,
   "id": "9aa03a38",
   "metadata": {},
   "outputs": [],
   "source": [
    "#PCA\n",
    "from sklearn.decomposition import PCA"
   ]
  },
  {
   "cell_type": "code",
   "execution_count": 56,
   "id": "5c94a64a",
   "metadata": {},
   "outputs": [
    {
     "name": "stdout",
     "output_type": "stream",
     "text": [
      "(43314, 10)\n",
      "(18564, 10)\n"
     ]
    }
   ],
   "source": [
    "pca=PCA(n_components=10)\n",
    "pcomps_train=pca.fit_transform(x_train)\n",
    "pcomps_test=pca.fit_transform(x_test)\n",
    "print(pcomps_train.shape)\n",
    "print(pcomps_test.shape)"
   ]
  },
  {
   "cell_type": "code",
   "execution_count": 57,
   "id": "15f9d80b",
   "metadata": {},
   "outputs": [
    {
     "data": {
      "text/plain": [
       "RandomForestClassifier(max_depth=25, min_samples_split=30)"
      ]
     },
     "execution_count": 57,
     "metadata": {},
     "output_type": "execute_result"
    }
   ],
   "source": [
    "# applying random forest or PCA results\n",
    "rf2=RandomForestClassifier(n_estimators=100,criterion='gini',max_depth=25,min_samples_split=30)\n",
    "rf2.fit(pcomps_train,y_train)"
   ]
  },
  {
   "cell_type": "code",
   "execution_count": 58,
   "id": "9df35dc6",
   "metadata": {},
   "outputs": [
    {
     "name": "stdout",
     "output_type": "stream",
     "text": [
      "Train Score 0.8288313247448862\n",
      "Test Score 0.5178840767076062\n"
     ]
    }
   ],
   "source": [
    "print('Train Score',rf2.score(pcomps_train,y_train))\n",
    "print('Test Score',rf2.score(pcomps_test,y_test))"
   ]
  },
  {
   "cell_type": "code",
   "execution_count": 59,
   "id": "f2af7e43",
   "metadata": {},
   "outputs": [
    {
     "name": "stdout",
     "output_type": "stream",
     "text": [
      "confusion matrix\n",
      " [[   1   33    7    0    0  343   24  147   32]\n",
      " [   0 3795  169    9  121  187   24  116  379]\n",
      " [   1 1979  149    7    4   48   31   64   78]\n",
      " [   1  621   46    4    8   30    4   34   39]\n",
      " [   0   34    1    1    0  784    4   21    0]\n",
      " [   0   91   16    0    0 3726   53  365   39]\n",
      " [   3  250   40    0    0   80  230  239    4]\n",
      " [  13  116   12    1    0  577   33 1610  128]\n",
      " [   1   33   10    1    2 1105   11  296   99]]\n",
      "classification report\n",
      "               precision    recall  f1-score   support\n",
      "\n",
      "     Class_1       0.05      0.00      0.00       587\n",
      "     Class_2       0.55      0.79      0.65      4800\n",
      "     Class_3       0.33      0.06      0.11      2361\n",
      "     Class_4       0.17      0.01      0.01       787\n",
      "     Class_5       0.00      0.00      0.00       845\n",
      "     Class_6       0.54      0.87      0.67      4290\n",
      "     Class_7       0.56      0.27      0.37       846\n",
      "     Class_8       0.56      0.65      0.60      2490\n",
      "     Class_9       0.12      0.06      0.08      1558\n",
      "\n",
      "    accuracy                           0.52     18564\n",
      "   macro avg       0.32      0.30      0.28     18564\n",
      "weighted avg       0.43      0.52      0.44     18564\n",
      "\n",
      "test score (47416    Class_7\n",
      "46490    Class_7\n",
      "35460    Class_6\n",
      "44640    Class_6\n",
      "32087    Class_6\n",
      "          ...   \n",
      "15868    Class_2\n",
      "22879    Class_3\n",
      "22575    Class_3\n",
      "196      Class_1\n",
      "34153    Class_6\n",
      "Name: target, Length: 18564, dtype: object, array(['Class_2', 'Class_7', 'Class_6', ..., 'Class_7', 'Class_6',\n",
      "       'Class_6'], dtype=object))\n"
     ]
    }
   ],
   "source": [
    "ypred_rf2=rf2.predict(pcomps_test)\n",
    "eval_model(y_test,ypred_rf2)"
   ]
  },
  {
   "cell_type": "code",
   "execution_count": 60,
   "id": "ec8d3e43",
   "metadata": {},
   "outputs": [
    {
     "data": {
      "text/plain": [
       "RandomForestClassifier(max_depth=12, min_samples_split=18, n_estimators=80)"
      ]
     },
     "execution_count": 60,
     "metadata": {},
     "output_type": "execute_result"
    }
   ],
   "source": [
    "# train the entire data on the best performing model\n",
    "rf1.fit(x,y)"
   ]
  },
  {
   "cell_type": "code",
   "execution_count": 61,
   "id": "b58ee359",
   "metadata": {},
   "outputs": [
    {
     "name": "stdout",
     "output_type": "stream",
     "text": [
      "Train Score 0.7444002715019877\n"
     ]
    }
   ],
   "source": [
    "print('Train Score',rf1.score(x,y))"
   ]
  },
  {
   "cell_type": "code",
   "execution_count": 66,
   "id": "6c6c2fd3",
   "metadata": {},
   "outputs": [
    {
     "data": {
      "text/plain": [
       "(144368, 94)"
      ]
     },
     "execution_count": 66,
     "metadata": {},
     "output_type": "execute_result"
    }
   ],
   "source": [
    "test_df.shape"
   ]
  },
  {
   "cell_type": "code",
   "execution_count": 67,
   "id": "ae6100e2",
   "metadata": {},
   "outputs": [],
   "source": [
    "test_df1=test_df.copy()"
   ]
  },
  {
   "cell_type": "code",
   "execution_count": 68,
   "id": "8d514524",
   "metadata": {},
   "outputs": [
    {
     "data": {
      "text/plain": [
       "(144368, 93)"
      ]
     },
     "execution_count": 68,
     "metadata": {},
     "output_type": "execute_result"
    }
   ],
   "source": [
    "test_df.drop('id',axis=1,inplace=True)\n",
    "test_df.shape"
   ]
  },
  {
   "cell_type": "code",
   "execution_count": 70,
   "id": "8a9bfd9f",
   "metadata": {},
   "outputs": [
    {
     "name": "stdout",
     "output_type": "stream",
     "text": [
      "144368\n"
     ]
    }
   ],
   "source": [
    "#generating prediction results for test data\n",
    "ypred_test_df=rf1.predict(test_df)\n",
    "print(len(ypred_test_df))"
   ]
  },
  {
   "cell_type": "code",
   "execution_count": 71,
   "id": "5ac63f45",
   "metadata": {},
   "outputs": [
    {
     "data": {
      "text/html": [
       "<div>\n",
       "<style scoped>\n",
       "    .dataframe tbody tr th:only-of-type {\n",
       "        vertical-align: middle;\n",
       "    }\n",
       "\n",
       "    .dataframe tbody tr th {\n",
       "        vertical-align: top;\n",
       "    }\n",
       "\n",
       "    .dataframe thead th {\n",
       "        text-align: right;\n",
       "    }\n",
       "</style>\n",
       "<table border=\"1\" class=\"dataframe\">\n",
       "  <thead>\n",
       "    <tr style=\"text-align: right;\">\n",
       "      <th></th>\n",
       "      <th>ID</th>\n",
       "      <th>Prediction</th>\n",
       "    </tr>\n",
       "  </thead>\n",
       "  <tbody>\n",
       "    <tr>\n",
       "      <th>0</th>\n",
       "      <td>1</td>\n",
       "      <td>Class_4</td>\n",
       "    </tr>\n",
       "    <tr>\n",
       "      <th>1</th>\n",
       "      <td>2</td>\n",
       "      <td>Class_6</td>\n",
       "    </tr>\n",
       "    <tr>\n",
       "      <th>2</th>\n",
       "      <td>3</td>\n",
       "      <td>Class_6</td>\n",
       "    </tr>\n",
       "    <tr>\n",
       "      <th>3</th>\n",
       "      <td>4</td>\n",
       "      <td>Class_2</td>\n",
       "    </tr>\n",
       "    <tr>\n",
       "      <th>4</th>\n",
       "      <td>5</td>\n",
       "      <td>Class_9</td>\n",
       "    </tr>\n",
       "    <tr>\n",
       "      <th>5</th>\n",
       "      <td>6</td>\n",
       "      <td>Class_3</td>\n",
       "    </tr>\n",
       "    <tr>\n",
       "      <th>6</th>\n",
       "      <td>7</td>\n",
       "      <td>Class_8</td>\n",
       "    </tr>\n",
       "    <tr>\n",
       "      <th>7</th>\n",
       "      <td>8</td>\n",
       "      <td>Class_2</td>\n",
       "    </tr>\n",
       "    <tr>\n",
       "      <th>8</th>\n",
       "      <td>9</td>\n",
       "      <td>Class_2</td>\n",
       "    </tr>\n",
       "    <tr>\n",
       "      <th>9</th>\n",
       "      <td>10</td>\n",
       "      <td>Class_2</td>\n",
       "    </tr>\n",
       "    <tr>\n",
       "      <th>10</th>\n",
       "      <td>11</td>\n",
       "      <td>Class_2</td>\n",
       "    </tr>\n",
       "    <tr>\n",
       "      <th>11</th>\n",
       "      <td>12</td>\n",
       "      <td>Class_9</td>\n",
       "    </tr>\n",
       "    <tr>\n",
       "      <th>12</th>\n",
       "      <td>13</td>\n",
       "      <td>Class_5</td>\n",
       "    </tr>\n",
       "    <tr>\n",
       "      <th>13</th>\n",
       "      <td>14</td>\n",
       "      <td>Class_2</td>\n",
       "    </tr>\n",
       "    <tr>\n",
       "      <th>14</th>\n",
       "      <td>15</td>\n",
       "      <td>Class_2</td>\n",
       "    </tr>\n",
       "    <tr>\n",
       "      <th>15</th>\n",
       "      <td>16</td>\n",
       "      <td>Class_8</td>\n",
       "    </tr>\n",
       "    <tr>\n",
       "      <th>16</th>\n",
       "      <td>17</td>\n",
       "      <td>Class_6</td>\n",
       "    </tr>\n",
       "    <tr>\n",
       "      <th>17</th>\n",
       "      <td>18</td>\n",
       "      <td>Class_6</td>\n",
       "    </tr>\n",
       "    <tr>\n",
       "      <th>18</th>\n",
       "      <td>19</td>\n",
       "      <td>Class_5</td>\n",
       "    </tr>\n",
       "    <tr>\n",
       "      <th>19</th>\n",
       "      <td>20</td>\n",
       "      <td>Class_2</td>\n",
       "    </tr>\n",
       "  </tbody>\n",
       "</table>\n",
       "</div>"
      ],
      "text/plain": [
       "    ID Prediction\n",
       "0    1    Class_4\n",
       "1    2    Class_6\n",
       "2    3    Class_6\n",
       "3    4    Class_2\n",
       "4    5    Class_9\n",
       "5    6    Class_3\n",
       "6    7    Class_8\n",
       "7    8    Class_2\n",
       "8    9    Class_2\n",
       "9   10    Class_2\n",
       "10  11    Class_2\n",
       "11  12    Class_9\n",
       "12  13    Class_5\n",
       "13  14    Class_2\n",
       "14  15    Class_2\n",
       "15  16    Class_8\n",
       "16  17    Class_6\n",
       "17  18    Class_6\n",
       "18  19    Class_5\n",
       "19  20    Class_2"
      ]
     },
     "execution_count": 71,
     "metadata": {},
     "output_type": "execute_result"
    }
   ],
   "source": [
    "submission=pd.DataFrame({'ID':test_df1['id'],'Prediction':ypred_test_df})\n",
    "submission.head(20)"
   ]
  },
  {
   "cell_type": "code",
   "execution_count": 72,
   "id": "8983a2a9",
   "metadata": {},
   "outputs": [
    {
     "data": {
      "text/plain": [
       "Class_2    64365\n",
       "Class_6    34280\n",
       "Class_8    22915\n",
       "Class_9    10735\n",
       "Class_5     5991\n",
       "Class_3     2837\n",
       "Class_7     1983\n",
       "Class_4     1146\n",
       "Class_1      116\n",
       "Name: Prediction, dtype: int64"
      ]
     },
     "execution_count": 72,
     "metadata": {},
     "output_type": "execute_result"
    }
   ],
   "source": [
    "submission['Prediction'].value_counts()"
   ]
  },
  {
   "cell_type": "code",
   "execution_count": 73,
   "id": "62927347",
   "metadata": {},
   "outputs": [],
   "source": [
    "# save this submission file\n",
    "submission.to_csv('submission_otto_product.csv')"
   ]
  },
  {
   "cell_type": "code",
   "execution_count": 74,
   "id": "12c97638",
   "metadata": {},
   "outputs": [],
   "source": [
    "# save the model\n",
    "import pickle"
   ]
  },
  {
   "cell_type": "code",
   "execution_count": 75,
   "id": "292981b0",
   "metadata": {},
   "outputs": [],
   "source": [
    "pickle.dump(rf1,open('otto_product_cls_rf1.pkl','wb')) # wb- write binary "
   ]
  },
  {
   "cell_type": "code",
   "execution_count": 76,
   "id": "00f18d59",
   "metadata": {},
   "outputs": [],
   "source": [
    "# load the save model\n",
    "model=pickle.load(open('otto_product_cls_rf1.pkl','rb')) # rb- read binary"
   ]
  },
  {
   "cell_type": "code",
   "execution_count": 77,
   "id": "25830b63",
   "metadata": {},
   "outputs": [
    {
     "data": {
      "text/html": [
       "<div>\n",
       "<style scoped>\n",
       "    .dataframe tbody tr th:only-of-type {\n",
       "        vertical-align: middle;\n",
       "    }\n",
       "\n",
       "    .dataframe tbody tr th {\n",
       "        vertical-align: top;\n",
       "    }\n",
       "\n",
       "    .dataframe thead th {\n",
       "        text-align: right;\n",
       "    }\n",
       "</style>\n",
       "<table border=\"1\" class=\"dataframe\">\n",
       "  <thead>\n",
       "    <tr style=\"text-align: right;\">\n",
       "      <th></th>\n",
       "      <th>feat_1</th>\n",
       "      <th>feat_2</th>\n",
       "      <th>feat_3</th>\n",
       "      <th>feat_4</th>\n",
       "      <th>feat_5</th>\n",
       "      <th>feat_6</th>\n",
       "      <th>feat_7</th>\n",
       "      <th>feat_8</th>\n",
       "      <th>feat_9</th>\n",
       "      <th>feat_10</th>\n",
       "      <th>...</th>\n",
       "      <th>feat_84</th>\n",
       "      <th>feat_85</th>\n",
       "      <th>feat_86</th>\n",
       "      <th>feat_87</th>\n",
       "      <th>feat_88</th>\n",
       "      <th>feat_89</th>\n",
       "      <th>feat_90</th>\n",
       "      <th>feat_91</th>\n",
       "      <th>feat_92</th>\n",
       "      <th>feat_93</th>\n",
       "    </tr>\n",
       "  </thead>\n",
       "  <tbody>\n",
       "    <tr>\n",
       "      <th>0</th>\n",
       "      <td>0</td>\n",
       "      <td>0</td>\n",
       "      <td>0</td>\n",
       "      <td>0</td>\n",
       "      <td>0</td>\n",
       "      <td>0</td>\n",
       "      <td>0</td>\n",
       "      <td>0</td>\n",
       "      <td>0</td>\n",
       "      <td>3</td>\n",
       "      <td>...</td>\n",
       "      <td>0</td>\n",
       "      <td>0</td>\n",
       "      <td>11</td>\n",
       "      <td>1</td>\n",
       "      <td>20</td>\n",
       "      <td>0</td>\n",
       "      <td>0</td>\n",
       "      <td>0</td>\n",
       "      <td>0</td>\n",
       "      <td>0</td>\n",
       "    </tr>\n",
       "    <tr>\n",
       "      <th>1</th>\n",
       "      <td>2</td>\n",
       "      <td>2</td>\n",
       "      <td>14</td>\n",
       "      <td>16</td>\n",
       "      <td>0</td>\n",
       "      <td>0</td>\n",
       "      <td>0</td>\n",
       "      <td>0</td>\n",
       "      <td>0</td>\n",
       "      <td>0</td>\n",
       "      <td>...</td>\n",
       "      <td>0</td>\n",
       "      <td>0</td>\n",
       "      <td>0</td>\n",
       "      <td>0</td>\n",
       "      <td>0</td>\n",
       "      <td>4</td>\n",
       "      <td>0</td>\n",
       "      <td>0</td>\n",
       "      <td>2</td>\n",
       "      <td>0</td>\n",
       "    </tr>\n",
       "    <tr>\n",
       "      <th>2</th>\n",
       "      <td>0</td>\n",
       "      <td>1</td>\n",
       "      <td>12</td>\n",
       "      <td>1</td>\n",
       "      <td>0</td>\n",
       "      <td>0</td>\n",
       "      <td>0</td>\n",
       "      <td>0</td>\n",
       "      <td>0</td>\n",
       "      <td>0</td>\n",
       "      <td>...</td>\n",
       "      <td>0</td>\n",
       "      <td>0</td>\n",
       "      <td>0</td>\n",
       "      <td>0</td>\n",
       "      <td>2</td>\n",
       "      <td>0</td>\n",
       "      <td>0</td>\n",
       "      <td>0</td>\n",
       "      <td>0</td>\n",
       "      <td>1</td>\n",
       "    </tr>\n",
       "    <tr>\n",
       "      <th>3</th>\n",
       "      <td>0</td>\n",
       "      <td>0</td>\n",
       "      <td>0</td>\n",
       "      <td>1</td>\n",
       "      <td>0</td>\n",
       "      <td>0</td>\n",
       "      <td>0</td>\n",
       "      <td>0</td>\n",
       "      <td>0</td>\n",
       "      <td>0</td>\n",
       "      <td>...</td>\n",
       "      <td>0</td>\n",
       "      <td>3</td>\n",
       "      <td>1</td>\n",
       "      <td>0</td>\n",
       "      <td>0</td>\n",
       "      <td>0</td>\n",
       "      <td>0</td>\n",
       "      <td>0</td>\n",
       "      <td>0</td>\n",
       "      <td>0</td>\n",
       "    </tr>\n",
       "    <tr>\n",
       "      <th>4</th>\n",
       "      <td>1</td>\n",
       "      <td>0</td>\n",
       "      <td>0</td>\n",
       "      <td>1</td>\n",
       "      <td>0</td>\n",
       "      <td>0</td>\n",
       "      <td>1</td>\n",
       "      <td>2</td>\n",
       "      <td>0</td>\n",
       "      <td>3</td>\n",
       "      <td>...</td>\n",
       "      <td>0</td>\n",
       "      <td>0</td>\n",
       "      <td>0</td>\n",
       "      <td>0</td>\n",
       "      <td>0</td>\n",
       "      <td>0</td>\n",
       "      <td>0</td>\n",
       "      <td>9</td>\n",
       "      <td>0</td>\n",
       "      <td>0</td>\n",
       "    </tr>\n",
       "  </tbody>\n",
       "</table>\n",
       "<p>5 rows × 93 columns</p>\n",
       "</div>"
      ],
      "text/plain": [
       "   feat_1  feat_2  feat_3  feat_4  feat_5  feat_6  feat_7  feat_8  feat_9  \\\n",
       "0       0       0       0       0       0       0       0       0       0   \n",
       "1       2       2      14      16       0       0       0       0       0   \n",
       "2       0       1      12       1       0       0       0       0       0   \n",
       "3       0       0       0       1       0       0       0       0       0   \n",
       "4       1       0       0       1       0       0       1       2       0   \n",
       "\n",
       "   feat_10  ...  feat_84  feat_85  feat_86  feat_87  feat_88  feat_89  \\\n",
       "0        3  ...        0        0       11        1       20        0   \n",
       "1        0  ...        0        0        0        0        0        4   \n",
       "2        0  ...        0        0        0        0        2        0   \n",
       "3        0  ...        0        3        1        0        0        0   \n",
       "4        3  ...        0        0        0        0        0        0   \n",
       "\n",
       "   feat_90  feat_91  feat_92  feat_93  \n",
       "0        0        0        0        0  \n",
       "1        0        0        2        0  \n",
       "2        0        0        0        1  \n",
       "3        0        0        0        0  \n",
       "4        0        9        0        0  \n",
       "\n",
       "[5 rows x 93 columns]"
      ]
     },
     "execution_count": 77,
     "metadata": {},
     "output_type": "execute_result"
    }
   ],
   "source": [
    "test_df[:5]"
   ]
  },
  {
   "cell_type": "code",
   "execution_count": 78,
   "id": "cfa87801",
   "metadata": {},
   "outputs": [
    {
     "data": {
      "text/plain": [
       "array(['Class_4', 'Class_6', 'Class_6', 'Class_2', 'Class_9'],\n",
       "      dtype=object)"
      ]
     },
     "execution_count": 78,
     "metadata": {},
     "output_type": "execute_result"
    }
   ],
   "source": [
    "pred_top5_test=model.predict(test_df[:5])\n",
    "pred_top5_test"
   ]
  },
  {
   "cell_type": "code",
   "execution_count": null,
   "id": "3dc3af5a",
   "metadata": {},
   "outputs": [],
   "source": []
  }
 ],
 "metadata": {
  "kernelspec": {
   "display_name": "Python 3 (ipykernel)",
   "language": "python",
   "name": "python3"
  },
  "language_info": {
   "codemirror_mode": {
    "name": "ipython",
    "version": 3
   },
   "file_extension": ".py",
   "mimetype": "text/x-python",
   "name": "python",
   "nbconvert_exporter": "python",
   "pygments_lexer": "ipython3",
   "version": "3.9.12"
  }
 },
 "nbformat": 4,
 "nbformat_minor": 5
}
